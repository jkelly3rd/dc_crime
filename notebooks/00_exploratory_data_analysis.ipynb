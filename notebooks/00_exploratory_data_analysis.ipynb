{
 "cells": [
  {
   "cell_type": "code",
   "execution_count": null,
   "id": "c42cf482",
   "metadata": {},
   "outputs": [],
   "source": [
    "# Project Configuration & Paths\n",
    "# This cell imports our centralized configuration\n",
    "\n",
    "import sys\n",
    "from pathlib import Path\n",
    "\n",
    "# Add the project root to the Python path so we can import our config\n",
    "project_root = Path('..').resolve()\n",
    "if str(project_root) not in sys.path:\n",
    "    sys.path.append(str(project_root))\n",
    "\n",
    "# Import our centralized configuration\n",
    "import config\n",
    "\n",
    "# All paths and settings are now available via config module\n",
    "print(\"📁 Project paths loaded from config.py:\")\n",
    "print(f\"  Raw data: {config.RAW_DATA_DIR}\")\n",
    "print(f\"  Processed data: {config.PROCESSED_DATA_DIR}\")\n",
    "print(f\"  Figures: {config.FIGURES_DIR}\")\n",
    "print()\n",
    "print(\"⚙️ Settings loaded from environment (.env file):\")\n",
    "print(f\"  Random seed: {config.RANDOM_SEED}\")\n",
    "print(f\"  Figure DPI: {config.DPI}\")\n",
    "print()\n",
    "print(\"💡 To customize these settings:\")\n",
    "print(\"  1. Copy .env.example to .env\")\n",
    "print(\"  2. Edit .env with your preferred values\")\n",
    "print(\"  3. Restart the kernel to reload\")"
   ]
  },
  {
   "cell_type": "markdown",
   "id": "fca9c90f",
   "metadata": {},
   "source": [
    "# Exploratory Data Analysis\n",
    "\n",
    "## Project Overview\n",
    "Brief description of the project and its objectives.\n",
    "\n",
    "## Data Description\n",
    "- **Source**: [Data source]\n",
    "- **Size**: [Number of rows and columns]\n",
    "- **Date Range**: [If applicable]\n",
    "- **Key Variables**: [List main variables of interest]"
   ]
  },
  {
   "cell_type": "code",
   "execution_count": null,
   "id": "44360e6b",
   "metadata": {},
   "outputs": [],
   "source": [
    "# Standard imports\n",
    "import pandas as pd\n",
    "import numpy as np\n",
    "import matplotlib.pyplot as plt\n",
    "import seaborn as sns\n",
    "import plotly.express as px\n",
    "import plotly.graph_objects as go\n",
    "from plotly.subplots import make_subplots\n",
    "\n",
    "# Additional imports\n",
    "import polars as pl\n",
    "import pyarrow.parquet as pq\n",
    "import requests\n",
    "from sklearn.preprocessing import StandardScaler\n",
    "from sklearn.model_selection import train_test_split\n",
    "\n",
    "# Display settings\n",
    "pd.set_option('display.max_columns', None)\n",
    "pd.set_option('display.max_rows', 100)\n",
    "plt.style.use('seaborn-v0_8')\n",
    "sns.set_palette('husl')\n",
    "\n",
    "# Jupyter settings\n",
    "%matplotlib inline\n",
    "%config InlineBackend.figure_format = 'retina'\n",
    "\n",
    "print(\"Environment setup complete!\")\n",
    "print(f\"Pandas version: {pd.__version__}\")\n",
    "print(f\"NumPy version: {np.__version__}\")\n",
    "print(f\"Polars version: {pl.__version__}\")"
   ]
  },
  {
   "cell_type": "code",
   "execution_count": null,
   "id": "8d44553c",
   "metadata": {},
   "outputs": [],
   "source": [
    "# Load your data here\n",
    "# df = pd.read_csv('../data/raw/your_data.csv')\n",
    "# df_polars = pl.read_csv('../data/raw/your_data.csv')\n",
    "\n",
    "# For demonstration, let's create sample data\n",
    "np.random.seed(42)\n",
    "sample_data = {\n",
    "    'feature_1': np.random.randn(1000),\n",
    "    'feature_2': np.random.randn(1000) * 2 + 1,\n",
    "    'category': np.random.choice(['A', 'B', 'C'], 1000),\n",
    "    'target': np.random.randn(1000) + np.random.choice([0, 1], 1000)\n",
    "}\n",
    "df = pd.DataFrame(sample_data)\n",
    "\n",
    "print(f\"Dataset shape: {df.shape}\")\n",
    "print(\"\\nFirst few rows:\")\n",
    "df.head()"
   ]
  },
  {
   "cell_type": "code",
   "execution_count": null,
   "id": "bc7b7a78",
   "metadata": {},
   "outputs": [],
   "source": [
    "# Data overview\n",
    "print(\"=== DATA OVERVIEW ===\")\n",
    "print(f\"Shape: {df.shape}\")\n",
    "print(f\"\\nData types:\")\n",
    "print(df.dtypes)\n",
    "print(f\"\\nMemory usage:\")\n",
    "print(df.memory_usage(deep=True))\n",
    "\n",
    "print(\"\\n=== BASIC STATISTICS ===\")\n",
    "df.describe()"
   ]
  },
  {
   "cell_type": "code",
   "execution_count": null,
   "id": "362c9f4e",
   "metadata": {},
   "outputs": [],
   "source": [
    "# Check for missing values\n",
    "print(\"=== MISSING VALUES ===\")\n",
    "missing_data = df.isnull().sum()\n",
    "missing_percent = 100 * missing_data / len(df)\n",
    "missing_table = pd.DataFrame({\n",
    "    'Missing Count': missing_data,\n",
    "    'Missing Percentage': missing_percent\n",
    "})\n",
    "missing_table[missing_table['Missing Count'] > 0].sort_values('Missing Count', ascending=False)"
   ]
  },
  {
   "cell_type": "code",
   "execution_count": null,
   "id": "f53f1d83",
   "metadata": {},
   "outputs": [],
   "source": [
    "# Basic visualizations\n",
    "fig, axes = plt.subplots(2, 2, figsize=(15, 10))\n",
    "\n",
    "# Distribution plots\n",
    "df['feature_1'].hist(bins=30, ax=axes[0,0], alpha=0.7)\n",
    "axes[0,0].set_title('Feature 1 Distribution')\n",
    "\n",
    "df['feature_2'].hist(bins=30, ax=axes[0,1], alpha=0.7)\n",
    "axes[0,1].set_title('Feature 2 Distribution')\n",
    "\n",
    "# Category counts\n",
    "df['category'].value_counts().plot(kind='bar', ax=axes[1,0])\n",
    "axes[1,0].set_title('Category Distribution')\n",
    "axes[1,0].tick_params(axis='x', rotation=45)\n",
    "\n",
    "# Correlation heatmap\n",
    "numeric_cols = df.select_dtypes(include=[np.number]).columns\n",
    "correlation_matrix = df[numeric_cols].corr()\n",
    "sns.heatmap(correlation_matrix, annot=True, cmap='coolwarm', center=0, ax=axes[1,1])\n",
    "axes[1,1].set_title('Correlation Matrix')\n",
    "\n",
    "plt.tight_layout()\n",
    "plt.show()"
   ]
  },
  {
   "cell_type": "code",
   "execution_count": null,
   "id": "472526bd",
   "metadata": {},
   "outputs": [],
   "source": [
    "# Interactive plotly visualizations\n",
    "fig = make_subplots(\n",
    "    rows=2, cols=2,\n",
    "    subplot_titles=('Feature 1 vs Feature 2', 'Feature Distribution by Category', \n",
    "                   'Target Distribution', 'Box Plot by Category'),\n",
    "    specs=[[{\"secondary_y\": False}, {\"secondary_y\": False}],\n",
    "           [{\"secondary_y\": False}, {\"secondary_y\": False}]]\n",
    ")\n",
    "\n",
    "# Scatter plot\n",
    "scatter = px.scatter(df, x='feature_1', y='feature_2', color='category', \n",
    "                    title='Feature 1 vs Feature 2')\n",
    "for trace in scatter.data:\n",
    "    fig.add_trace(trace, row=1, col=1)\n",
    "\n",
    "# Histogram by category\n",
    "for cat in df['category'].unique():\n",
    "    fig.add_trace(\n",
    "        go.Histogram(x=df[df['category']==cat]['feature_1'], \n",
    "                    name=f'Category {cat}', opacity=0.7),\n",
    "        row=1, col=2\n",
    "    )\n",
    "\n",
    "# Target distribution\n",
    "fig.add_trace(\n",
    "    go.Histogram(x=df['target'], name='Target'),\n",
    "    row=2, col=1\n",
    ")\n",
    "\n",
    "# Box plot\n",
    "box_plot = px.box(df, x='category', y='target')\n",
    "for trace in box_plot.data:\n",
    "    fig.add_trace(trace, row=2, col=2)\n",
    "\n",
    "fig.update_layout(height=800, showlegend=True, title_text=\"Data Exploration Dashboard\")\n",
    "fig.show()"
   ]
  },
  {
   "cell_type": "markdown",
   "id": "a47cda26",
   "metadata": {},
   "source": [
    "## Key Insights\n",
    "\n",
    "1. **Data Quality**: [Observations about missing values, outliers, etc.]\n",
    "2. **Distributions**: [Key findings about variable distributions]\n",
    "3. **Relationships**: [Notable correlations or patterns]\n",
    "4. **Next Steps**: [Recommendations for further analysis or modeling]"
   ]
  },
  {
   "cell_type": "code",
   "execution_count": null,
   "id": "542712b0",
   "metadata": {},
   "outputs": [],
   "source": [
    "# Save processed data\n",
    "# df.to_csv('../data/processed/cleaned_data.csv', index=False)\n",
    "# df.to_parquet('../data/processed/cleaned_data.parquet')\n",
    "\n",
    "print(\"Analysis complete! Ready for next steps.\")"
   ]
  },
  {
   "cell_type": "code",
   "execution_count": 1,
   "id": "0426825b",
   "metadata": {},
   "outputs": [
    {
     "name": "stdout",
     "output_type": "stream",
     "text": [
      "Hello, World!\n"
     ]
    }
   ],
   "source": [
    "# Adding a simple print statement to test cell modification\n",
    "print(\"Hello, World!\")"
   ]
  }
 ],
 "metadata": {
  "kernelspec": {
   "display_name": "dc-crime",
   "language": "python",
   "name": "python3"
  },
  "language_info": {
   "codemirror_mode": {
    "name": "ipython",
    "version": 3
   },
   "file_extension": ".py",
   "mimetype": "text/x-python",
   "name": "python",
   "nbconvert_exporter": "python",
   "pygments_lexer": "ipython3",
   "version": "3.13.2"
  }
 },
 "nbformat": 4,
 "nbformat_minor": 5
}
