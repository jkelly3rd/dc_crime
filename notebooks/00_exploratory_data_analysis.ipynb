{
 "cells": [
  {
   "cell_type": "code",
   "execution_count": null,
   "id": "c42cf482",
   "metadata": {},
   "outputs": [],
   "source": [
    "# Project Configuration & Paths\n",
    "# This cell imports our centralized configuration\n",
    "\n",
    "import sys\n",
    "from pathlib import Path\n",
    "\n",
    "# Add the project root to the Python path so we can import our config\n",
    "project_root = Path('..').resolve()\n",
    "if str(project_root) not in sys.path:\n",
    "    sys.path.append(str(project_root))\n",
    "\n",
    "# Import our centralized configuration\n",
    "import config\n",
    "\n",
    "# All paths and settings are now available via config module\n",
    "print(\"📁 Project paths loaded from config.py:\")\n",
    "print(f\"  Raw data: {config.RAW_DATA_DIR}\")\n",
    "print(f\"  Processed data: {config.PROCESSED_DATA_DIR}\")\n",
    "print(f\"  Figures: {config.FIGURES_DIR}\")\n",
    "print()\n",
    "print(\"⚙️ Settings loaded from environment (.env file):\")\n",
    "print(f\"  Random seed: {config.RANDOM_SEED}\")\n",
    "print(f\"  Figure DPI: {config.DPI}\")\n",
    "print()\n",
    "print(\"💡 To customize these settings:\")\n",
    "print(\"  1. Copy .env.example to .env\")\n",
    "print(\"  2. Edit .env with your preferred values\")\n",
    "print(\"  3. Restart the kernel to reload\")"
   ]
  },
  {
   "cell_type": "markdown",
   "id": "fca9c90f",
   "metadata": {},
   "source": [
    "# Exploratory Data Analysis\n",
    "\n",
    "## Project Overview\n",
    "Brief description of the project and its objectives.\n",
    "\n",
    "## Data Description\n",
    "- **Source**: [Data source]\n",
    "- **Size**: [Number of rows and columns]\n",
    "- **Date Range**: [If applicable]\n",
    "- **Key Variables**: [List main variables of interest]"
   ]
  },
  {
   "cell_type": "code",
   "execution_count": null,
   "id": "44360e6b",
   "metadata": {},
   "outputs": [],
   "source": [
    "# Standard imports\n",
    "import pandas as pd\n",
    "import numpy as np\n",
    "import matplotlib.pyplot as plt\n",
    "import seaborn as sns\n",
    "import plotly.express as px\n",
    "import plotly.graph_objects as go\n",
    "\n",
    "# Import our utility functions (both data analysis and journalism)\n",
    "from utils import (\n",
    "    quick_info, plot_distributions, correlation_analysis,\n",
    "    quick_export_for_web, create_story_charts, data_fact_check,\n",
    "    quick_summary_table, compare_periods\n",
    ")\n",
    "\n",
    "print(\"📚 All libraries and utilities loaded!\")\n",
    "print(\"💡 New journalism utilities available:\")\n",
    "print(\"   • quick_export_for_web() - Export data for publishing\")\n",
    "print(\"   • create_story_charts() - Publication-ready charts\")\n",
    "print(\"   • data_fact_check() - Quick data validation\")\n",
    "print(\"   • quick_summary_table() - Summary tables by category\")\n",
    "print(\"   • compare_periods() - Before/after analysis\")"
   ]
  },
  {
   "cell_type": "code",
   "execution_count": null,
   "id": "8d44553c",
   "metadata": {},
   "outputs": [],
   "source": [
    "# Load your data\n",
    "# Replace this with your actual data loading\n",
    "\n",
    "# Example: Load from CSV\n",
    "# df = pd.read_csv(config.RAW_DATA_DIR / \"your_data.csv\")\n",
    "\n",
    "# Example: Load from multiple sources (common in journalism)\n",
    "# df1 = pd.read_csv(config.RAW_DATA_DIR / \"source1.csv\")\n",
    "# df2 = pd.read_excel(config.RAW_DATA_DIR / \"source2.xlsx\")\n",
    "# df = pd.merge(df1, df2, on='common_column')\n",
    "\n",
    "# For demonstration, let's create sample data\n",
    "np.random.seed(42)\n",
    "sample_data = {\n",
    "    'state': np.random.choice(['California', 'Texas', 'New York', 'Florida', 'Illinois'], 1000),\n",
    "    'population': np.random.randint(10000, 50000000, 1000),\n",
    "    'incidents': np.random.randint(0, 500, 1000),\n",
    "    'date': pd.date_range('2024-01-01', periods=1000, freq='D'),\n",
    "    'category': np.random.choice(['Type A', 'Type B', 'Type C'], 1000)\n",
    "}\n",
    "\n",
    "df = pd.DataFrame(sample_data)\n",
    "print(f\"✅ Data loaded: {len(df):,} rows, {len(df.columns)} columns\")\n",
    "\n",
    "# Quick journalism fact-check\n",
    "data_fact_check(df)"
   ]
  },
  {
   "cell_type": "code",
   "execution_count": null,
   "id": "bc7b7a78",
   "metadata": {},
   "outputs": [],
   "source": [
    "# Data overview\n",
    "print(\"=== DATA OVERVIEW ===\")\n",
    "print(f\"Shape: {df.shape}\")\n",
    "print(f\"\\nData types:\")\n",
    "print(df.dtypes)\n",
    "print(f\"\\nMemory usage:\")\n",
    "print(df.memory_usage(deep=True))\n",
    "\n",
    "print(\"\\n=== BASIC STATISTICS ===\")\n",
    "df.describe()"
   ]
  },
  {
   "cell_type": "code",
   "execution_count": null,
   "id": "362c9f4e",
   "metadata": {},
   "outputs": [],
   "source": [
    "# Check for missing values\n",
    "print(\"=== MISSING VALUES ===\")\n",
    "missing_data = df.isnull().sum()\n",
    "missing_percent = 100 * missing_data / len(df)\n",
    "missing_table = pd.DataFrame({\n",
    "    'Missing Count': missing_data,\n",
    "    'Missing Percentage': missing_percent\n",
    "})\n",
    "missing_table[missing_table['Missing Count'] > 0].sort_values('Missing Count', ascending=False)"
   ]
  },
  {
   "cell_type": "code",
   "execution_count": null,
   "id": "f53f1d83",
   "metadata": {},
   "outputs": [],
   "source": [
    "# Quick publication-ready visualizations\n",
    "print(\"📊 Creating story charts...\")\n",
    "\n",
    "# Chart 1: Distribution by state (automatically saves as publication-ready)\n",
    "create_story_charts(df, 'state', title='Incidents by State', save_filename='incidents_by_state')\n",
    "\n",
    "# Chart 2: Time series analysis \n",
    "create_story_charts(df, 'incidents', chart_type='histogram', \n",
    "                   title='Distribution of Incident Counts', save_filename='incident_distribution')"
   ]
  },
  {
   "cell_type": "code",
   "execution_count": null,
   "id": "472526bd",
   "metadata": {},
   "outputs": [],
   "source": [
    "# Journalism workflow examples\n",
    "\n",
    "# 1. Quick summary table for publication\n",
    "print(\"📋 Summary table by state:\")\n",
    "state_summary = quick_summary_table(df, 'state', ['incidents', 'population'], 'sum')\n",
    "\n",
    "# 2. Export data for web publishing\n",
    "print(\"\\n💾 Exporting data for publication:\")\n",
    "quick_export_for_web(state_summary, 'state_summary', 'csv')\n",
    "quick_export_for_web(state_summary, 'state_summary_web', 'html')\n",
    "\n",
    "# 3. Quick fact-check on specific column\n",
    "print(\"\\n🔍 Fact-checking incidents data:\")\n",
    "incident_check = data_fact_check(df, 'incidents')"
   ]
  },
  {
   "cell_type": "markdown",
   "id": "a47cda26",
   "metadata": {},
   "source": [
    "## Key Insights\n",
    "\n",
    "1. **Data Quality**: [Observations about missing values, outliers, etc.]\n",
    "2. **Distributions**: [Key findings about variable distributions]\n",
    "3. **Relationships**: [Notable correlations or patterns]\n",
    "4. **Next Steps**: [Recommendations for further analysis or modeling]"
   ]
  },
  {
   "cell_type": "code",
   "execution_count": null,
   "id": "542712b0",
   "metadata": {},
   "outputs": [],
   "source": [
    "# Period comparison analysis (useful for before/after stories)\n",
    "print(\"📈 Comparing periods (before vs after analysis):\")\n",
    "\n",
    "# Compare incidents before and after mid-year\n",
    "comparison = compare_periods(df, 'date', 'incidents', '2024-01-01', '2024-07-01')\n",
    "\n",
    "# Summary statistics using traditional utilities\n",
    "print(\"\\n📊 Traditional analysis:\")\n",
    "quick_info(df)\n",
    "\n",
    "print(\"\\n🎯 Analysis complete! Key files generated:\")\n",
    "print(\"   • Charts saved in notebooks/ directory\")\n",
    "print(\"   • Data exports in data/processed/ directory\") \n",
    "print(\"   • Ready for publication workflow\")"
   ]
  }
 ],
 "metadata": {
  "language_info": {
   "name": "python"
  }
 },
 "nbformat": 4,
 "nbformat_minor": 5
}
